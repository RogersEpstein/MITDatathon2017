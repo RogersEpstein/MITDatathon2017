{
 "cells": [
  {
   "cell_type": "markdown",
   "metadata": {
    "deletable": true,
    "editable": true
   },
   "source": [
    "# Python Tutorial for LinkUp Data"
   ]
  },
  {
   "cell_type": "markdown",
   "metadata": {
    "deletable": true,
    "editable": true
   },
   "source": [
    "You should install the following packages (through `pip install`) prior to proceeding:\n",
    "* **matplotlib** (http://matplotlib.org)\n",
    "* **numpy** (http://www.numpy.org)\n",
    "* **pandas** (http://pandas.pydata.org)\n",
    "* **seaborn** (http://seaborn.pydata.org)\n",
    "* **sklearn** (http://scikit-learn.org/stable/)\n",
    "\n",
    "Tutorial links (if they exist) are listed above in parentheses next to their respective packages."
   ]
  },
  {
   "cell_type": "code",
   "execution_count": 66,
   "metadata": {
    "collapsed": true,
    "deletable": true,
    "editable": true
   },
   "outputs": [],
   "source": [
    "import csv\n",
    "import numpy as np\n",
    "import pandas as pd\n",
    "import seaborn as sns\n",
    "import sklearn as skl\n",
    "import matplotlib\n",
    "import matplotlib.pyplot as plt\n",
    "%matplotlib inline"
   ]
  },
  {
   "cell_type": "markdown",
   "metadata": {
    "deletable": true,
    "editable": true
   },
   "source": [
    "## Brief tutorial on how to read companies and jobs data into pandas dataframes\n",
    "\n",
    "For faster reads, consider saving these files locally instead of using the web endpoints."
   ]
  },
  {
   "cell_type": "code",
   "execution_count": 67,
   "metadata": {
    "collapsed": false,
    "deletable": true,
    "editable": true
   },
   "outputs": [],
   "source": [
    "companies = pd.read_csv(\"https://s3-us-west-2.amazonaws.com/correlation1-public/MITDatathon2017/companies.csv\")"
   ]
  },
  {
   "cell_type": "code",
   "execution_count": 68,
   "metadata": {
    "collapsed": false,
    "deletable": true,
    "editable": true
   },
   "outputs": [
    {
     "data": {
      "text/html": [
       "<div>\n",
       "<table border=\"1\" class=\"dataframe\">\n",
       "  <thead>\n",
       "    <tr style=\"text-align: right;\">\n",
       "      <th></th>\n",
       "      <th>name</th>\n",
       "      <th>last_scrape_date</th>\n",
       "      <th>first_scrape_date</th>\n",
       "      <th>city</th>\n",
       "      <th>state</th>\n",
       "      <th>country</th>\n",
       "      <th>ticker_main</th>\n",
       "      <th>ticker_ric</th>\n",
       "      <th>entity_id</th>\n",
       "      <th>bloomberg_id</th>\n",
       "      <th>scraping_url</th>\n",
       "      <th>trc_business_sector</th>\n",
       "      <th>trc_economic_sector</th>\n",
       "      <th>trc_industry_sector</th>\n",
       "      <th>trc_industry_group</th>\n",
       "    </tr>\n",
       "  </thead>\n",
       "  <tbody>\n",
       "    <tr>\n",
       "      <th>0</th>\n",
       "      <td>Target</td>\n",
       "      <td>2017-02-19</td>\n",
       "      <td>2007-12-11</td>\n",
       "      <td>Minneapolis</td>\n",
       "      <td>MN</td>\n",
       "      <td>US</td>\n",
       "      <td>TGT</td>\n",
       "      <td>TGT.N</td>\n",
       "      <td>22560.0</td>\n",
       "      <td>TGT</td>\n",
       "      <td>http://www.target.com</td>\n",
       "      <td>Retailers</td>\n",
       "      <td>Consumer Cyclicals</td>\n",
       "      <td>Discount Stores</td>\n",
       "      <td>Diversified Retail</td>\n",
       "    </tr>\n",
       "    <tr>\n",
       "      <th>1</th>\n",
       "      <td>General Mills  Inc.</td>\n",
       "      <td>2017-02-17</td>\n",
       "      <td>2007-12-03</td>\n",
       "      <td>Minneapolis</td>\n",
       "      <td>MN</td>\n",
       "      <td>US</td>\n",
       "      <td>GIS</td>\n",
       "      <td>GIS.N</td>\n",
       "      <td>24428.0</td>\n",
       "      <td>GIS</td>\n",
       "      <td>http://www.generalmills.com</td>\n",
       "      <td>Food &amp; Beverages</td>\n",
       "      <td>Consumer Non-Cyclicals</td>\n",
       "      <td>Food Processing</td>\n",
       "      <td>Food &amp; Tobacco</td>\n",
       "    </tr>\n",
       "    <tr>\n",
       "      <th>2</th>\n",
       "      <td>Ecolab Inc.</td>\n",
       "      <td>2017-02-16</td>\n",
       "      <td>2008-08-20</td>\n",
       "      <td>Saint Paul</td>\n",
       "      <td>MN</td>\n",
       "      <td>US</td>\n",
       "      <td>ECL</td>\n",
       "      <td>ECL.N</td>\n",
       "      <td>23051.0</td>\n",
       "      <td>ECL</td>\n",
       "      <td>http://www.ecolab.com</td>\n",
       "      <td>Industrial &amp; Commercial Services</td>\n",
       "      <td>Industrials</td>\n",
       "      <td>Business Support Services</td>\n",
       "      <td>Professional &amp; Commercial Services</td>\n",
       "    </tr>\n",
       "    <tr>\n",
       "      <th>3</th>\n",
       "      <td>Wilsons Leather</td>\n",
       "      <td>2017-02-19</td>\n",
       "      <td>2008-12-07</td>\n",
       "      <td>Brooklyn Park</td>\n",
       "      <td>MN</td>\n",
       "      <td>US</td>\n",
       "      <td>PRVU</td>\n",
       "      <td>PRVU.PK</td>\n",
       "      <td>108000693.0</td>\n",
       "      <td>PRVU</td>\n",
       "      <td>http://www.wilsonsleather.com/</td>\n",
       "      <td>NaN</td>\n",
       "      <td>NaN</td>\n",
       "      <td>NaN</td>\n",
       "      <td>NaN</td>\n",
       "    </tr>\n",
       "    <tr>\n",
       "      <th>4</th>\n",
       "      <td>Hawkins Chemical</td>\n",
       "      <td>2017-02-18</td>\n",
       "      <td>2008-07-06</td>\n",
       "      <td>Minneapolis</td>\n",
       "      <td>MN</td>\n",
       "      <td>US</td>\n",
       "      <td>HWKN</td>\n",
       "      <td>HWKN.OQ</td>\n",
       "      <td>25234.0</td>\n",
       "      <td>HWKN</td>\n",
       "      <td>http://www.hawkinsinc.com</td>\n",
       "      <td>Chemicals</td>\n",
       "      <td>Basic Materials</td>\n",
       "      <td>Diversified Chemicals</td>\n",
       "      <td>Chemicals</td>\n",
       "    </tr>\n",
       "  </tbody>\n",
       "</table>\n",
       "</div>"
      ],
      "text/plain": [
       "                  name last_scrape_date first_scrape_date           city  \\\n",
       "0               Target       2017-02-19        2007-12-11    Minneapolis   \n",
       "1  General Mills  Inc.       2017-02-17        2007-12-03    Minneapolis   \n",
       "2          Ecolab Inc.       2017-02-16        2008-08-20     Saint Paul   \n",
       "3      Wilsons Leather       2017-02-19        2008-12-07  Brooklyn Park   \n",
       "4     Hawkins Chemical       2017-02-18        2008-07-06    Minneapolis   \n",
       "\n",
       "  state country ticker_main ticker_ric    entity_id bloomberg_id  \\\n",
       "0    MN      US         TGT      TGT.N      22560.0          TGT   \n",
       "1    MN      US         GIS      GIS.N      24428.0          GIS   \n",
       "2    MN      US         ECL      ECL.N      23051.0          ECL   \n",
       "3    MN      US        PRVU    PRVU.PK  108000693.0         PRVU   \n",
       "4    MN      US        HWKN    HWKN.OQ      25234.0         HWKN   \n",
       "\n",
       "                     scraping_url               trc_business_sector  \\\n",
       "0           http://www.target.com                         Retailers   \n",
       "1     http://www.generalmills.com                  Food & Beverages   \n",
       "2           http://www.ecolab.com  Industrial & Commercial Services   \n",
       "3  http://www.wilsonsleather.com/                               NaN   \n",
       "4       http://www.hawkinsinc.com                         Chemicals   \n",
       "\n",
       "      trc_economic_sector        trc_industry_sector  \\\n",
       "0      Consumer Cyclicals            Discount Stores   \n",
       "1  Consumer Non-Cyclicals            Food Processing   \n",
       "2             Industrials  Business Support Services   \n",
       "3                     NaN                        NaN   \n",
       "4         Basic Materials      Diversified Chemicals   \n",
       "\n",
       "                   trc_industry_group  \n",
       "0                  Diversified Retail  \n",
       "1                      Food & Tobacco  \n",
       "2  Professional & Commercial Services  \n",
       "3                                 NaN  \n",
       "4                           Chemicals  "
      ]
     },
     "execution_count": 68,
     "metadata": {},
     "output_type": "execute_result"
    }
   ],
   "source": [
    "companies.head()"
   ]
  },
  {
   "cell_type": "code",
   "execution_count": 69,
   "metadata": {
    "collapsed": false,
    "deletable": true,
    "editable": true
   },
   "outputs": [
    {
     "data": {
      "text/html": [
       "<div>\n",
       "<table border=\"1\" class=\"dataframe\">\n",
       "  <thead>\n",
       "    <tr style=\"text-align: right;\">\n",
       "      <th></th>\n",
       "      <th>name</th>\n",
       "      <th>last_scrape_date</th>\n",
       "      <th>first_scrape_date</th>\n",
       "      <th>city</th>\n",
       "      <th>state</th>\n",
       "      <th>country</th>\n",
       "      <th>ticker_main</th>\n",
       "      <th>ticker_ric</th>\n",
       "      <th>entity_id</th>\n",
       "      <th>bloomberg_id</th>\n",
       "      <th>scraping_url</th>\n",
       "      <th>trc_business_sector</th>\n",
       "      <th>trc_economic_sector</th>\n",
       "      <th>trc_industry_sector</th>\n",
       "      <th>trc_industry_group</th>\n",
       "    </tr>\n",
       "  </thead>\n",
       "  <tbody>\n",
       "    <tr>\n",
       "      <th>0</th>\n",
       "      <td>Target</td>\n",
       "      <td>2017-02-19</td>\n",
       "      <td>2007-12-11</td>\n",
       "      <td>Minneapolis</td>\n",
       "      <td>MN</td>\n",
       "      <td>US</td>\n",
       "      <td>TGT</td>\n",
       "      <td>TGT.N</td>\n",
       "      <td>22560.0</td>\n",
       "      <td>TGT</td>\n",
       "      <td>http://www.target.com</td>\n",
       "      <td>Retailers</td>\n",
       "      <td>Consumer Cyclicals</td>\n",
       "      <td>Discount Stores</td>\n",
       "      <td>Diversified Retail</td>\n",
       "    </tr>\n",
       "    <tr>\n",
       "      <th>22475</th>\n",
       "      <td>Target</td>\n",
       "      <td>2017-02-17</td>\n",
       "      <td>2013-05-10</td>\n",
       "      <td>Melbourne</td>\n",
       "      <td>State of Victoria</td>\n",
       "      <td>AU</td>\n",
       "      <td>TEX.AX</td>\n",
       "      <td>TEX.AX</td>\n",
       "      <td>102033625.0</td>\n",
       "      <td>NaN</td>\n",
       "      <td>http://www.target.com.au/</td>\n",
       "      <td>Energy - Fossil Fuels</td>\n",
       "      <td>Energy</td>\n",
       "      <td>Oil &amp; Gas Exploration and Production</td>\n",
       "      <td>Oil &amp; Gas</td>\n",
       "    </tr>\n",
       "  </tbody>\n",
       "</table>\n",
       "</div>"
      ],
      "text/plain": [
       "         name last_scrape_date first_scrape_date         city  \\\n",
       "0      Target       2017-02-19        2007-12-11  Minneapolis   \n",
       "22475  Target       2017-02-17        2013-05-10    Melbourne   \n",
       "\n",
       "                   state country ticker_main ticker_ric    entity_id  \\\n",
       "0                     MN      US         TGT      TGT.N      22560.0   \n",
       "22475  State of Victoria      AU      TEX.AX     TEX.AX  102033625.0   \n",
       "\n",
       "      bloomberg_id               scraping_url    trc_business_sector  \\\n",
       "0              TGT      http://www.target.com              Retailers   \n",
       "22475          NaN  http://www.target.com.au/  Energy - Fossil Fuels   \n",
       "\n",
       "      trc_economic_sector                   trc_industry_sector  \\\n",
       "0      Consumer Cyclicals                       Discount Stores   \n",
       "22475              Energy  Oil & Gas Exploration and Production   \n",
       "\n",
       "       trc_industry_group  \n",
       "0      Diversified Retail  \n",
       "22475           Oil & Gas  "
      ]
     },
     "execution_count": 69,
     "metadata": {},
     "output_type": "execute_result"
    }
   ],
   "source": [
    "companies[companies.name==\"Target\"]"
   ]
  },
  {
   "cell_type": "code",
   "execution_count": 70,
   "metadata": {
    "collapsed": false,
    "deletable": true,
    "editable": true
   },
   "outputs": [],
   "source": [
    "jobs = pd.read_csv(\"https://s3-us-west-2.amazonaws.com/correlation1-public/MITDatathon2017/jobs.csv.gz\", compression='gzip')"
   ]
  },
  {
   "cell_type": "code",
   "execution_count": 71,
   "metadata": {
    "collapsed": false,
    "deletable": true,
    "editable": true
   },
   "outputs": [
    {
     "data": {
      "text/html": [
       "<div>\n",
       "<table border=\"1\" class=\"dataframe\">\n",
       "  <thead>\n",
       "    <tr style=\"text-align: right;\">\n",
       "      <th></th>\n",
       "      <th>hash</th>\n",
       "      <th>company_id</th>\n",
       "      <th>company_name</th>\n",
       "      <th>title</th>\n",
       "      <th>created_date</th>\n",
       "      <th>last_checked_date</th>\n",
       "      <th>city</th>\n",
       "      <th>state</th>\n",
       "      <th>zip</th>\n",
       "      <th>country</th>\n",
       "      <th>category_id</th>\n",
       "      <th>category_name</th>\n",
       "    </tr>\n",
       "  </thead>\n",
       "  <tbody>\n",
       "    <tr>\n",
       "      <th>0</th>\n",
       "      <td>000001a5f7022973b3d8b7b2c3e24082</td>\n",
       "      <td>420</td>\n",
       "      <td>SAIC</td>\n",
       "      <td>Sr. Environmental Engineer</td>\n",
       "      <td>2008-12-01</td>\n",
       "      <td>2008-12-01</td>\n",
       "      <td>Harrisburg</td>\n",
       "      <td>PA</td>\n",
       "      <td>17106</td>\n",
       "      <td>US</td>\n",
       "      <td>21</td>\n",
       "      <td>Agriculture, Forestry &amp; Fishing</td>\n",
       "    </tr>\n",
       "    <tr>\n",
       "      <th>1</th>\n",
       "      <td>000005782bc4ce081dd656ee55b405b2</td>\n",
       "      <td>17976</td>\n",
       "      <td>Emcor</td>\n",
       "      <td>Carpenter Journeyman</td>\n",
       "      <td>2010-03-17</td>\n",
       "      <td>2010-03-17</td>\n",
       "      <td>U S A F Academy</td>\n",
       "      <td>CO</td>\n",
       "      <td>80841</td>\n",
       "      <td>US</td>\n",
       "      <td>30</td>\n",
       "      <td>Construction &amp; Skilled Trade</td>\n",
       "    </tr>\n",
       "    <tr>\n",
       "      <th>2</th>\n",
       "      <td>000010b1e01a832cd8e725f9552ff9ba</td>\n",
       "      <td>9208</td>\n",
       "      <td>Wyndham Hotels and Resorts  LLC</td>\n",
       "      <td>Guest Services Associate - Wyndham Arrow Point...</td>\n",
       "      <td>2015-05-28</td>\n",
       "      <td>2015-05-28</td>\n",
       "      <td>Harrison</td>\n",
       "      <td>ID</td>\n",
       "      <td>83833</td>\n",
       "      <td>US</td>\n",
       "      <td>70</td>\n",
       "      <td>Concierge &amp; Guest Services</td>\n",
       "    </tr>\n",
       "    <tr>\n",
       "      <th>3</th>\n",
       "      <td>000011518dfb25f79fdddc85376099e2</td>\n",
       "      <td>12084</td>\n",
       "      <td>Fluor Corporation</td>\n",
       "      <td>Principal HR/IR Technician</td>\n",
       "      <td>2016-06-03</td>\n",
       "      <td>2016-07-28</td>\n",
       "      <td>Waynesboro</td>\n",
       "      <td>GA</td>\n",
       "      <td>30830</td>\n",
       "      <td>US</td>\n",
       "      <td>77</td>\n",
       "      <td>Human Resources</td>\n",
       "    </tr>\n",
       "    <tr>\n",
       "      <th>4</th>\n",
       "      <td>000014a0c96182242b75a1ba47a1b582</td>\n",
       "      <td>420</td>\n",
       "      <td>SAIC</td>\n",
       "      <td>Test Engineer (OS)</td>\n",
       "      <td>2008-12-15</td>\n",
       "      <td>2008-12-15</td>\n",
       "      <td>Columbia</td>\n",
       "      <td>MD</td>\n",
       "      <td>21044</td>\n",
       "      <td>US</td>\n",
       "      <td>43</td>\n",
       "      <td>Engineering &amp; Architecture</td>\n",
       "    </tr>\n",
       "  </tbody>\n",
       "</table>\n",
       "</div>"
      ],
      "text/plain": [
       "                               hash  company_id  \\\n",
       "0  000001a5f7022973b3d8b7b2c3e24082         420   \n",
       "1  000005782bc4ce081dd656ee55b405b2       17976   \n",
       "2  000010b1e01a832cd8e725f9552ff9ba        9208   \n",
       "3  000011518dfb25f79fdddc85376099e2       12084   \n",
       "4  000014a0c96182242b75a1ba47a1b582         420   \n",
       "\n",
       "                      company_name  \\\n",
       "0                             SAIC   \n",
       "1                            Emcor   \n",
       "2  Wyndham Hotels and Resorts  LLC   \n",
       "3                Fluor Corporation   \n",
       "4                             SAIC   \n",
       "\n",
       "                                               title created_date  \\\n",
       "0                         Sr. Environmental Engineer   2008-12-01   \n",
       "1                               Carpenter Journeyman   2010-03-17   \n",
       "2  Guest Services Associate - Wyndham Arrow Point...   2015-05-28   \n",
       "3                         Principal HR/IR Technician   2016-06-03   \n",
       "4                                 Test Engineer (OS)   2008-12-15   \n",
       "\n",
       "  last_checked_date             city state    zip country  category_id  \\\n",
       "0        2008-12-01       Harrisburg    PA  17106      US           21   \n",
       "1        2010-03-17  U S A F Academy    CO  80841      US           30   \n",
       "2        2015-05-28         Harrison    ID  83833      US           70   \n",
       "3        2016-07-28       Waynesboro    GA  30830      US           77   \n",
       "4        2008-12-15         Columbia    MD  21044      US           43   \n",
       "\n",
       "                     category_name  \n",
       "0  Agriculture, Forestry & Fishing  \n",
       "1     Construction & Skilled Trade  \n",
       "2       Concierge & Guest Services  \n",
       "3                  Human Resources  \n",
       "4       Engineering & Architecture  "
      ]
     },
     "execution_count": 71,
     "metadata": {},
     "output_type": "execute_result"
    }
   ],
   "source": [
    "jobs.head()"
   ]
  },
  {
   "cell_type": "markdown",
   "metadata": {
    "deletable": true,
    "editable": true
   },
   "source": [
    "### Demonstration plot: How has the number of new job postings in technology changed over time?\n",
    "\n",
    "We will produce a plot in two steps:\n",
    "1. Take the jobs data and filter it by job category for technology\n",
    "2. Group the filtered data by create_dTake daily counts and then create a 2-D plot"
   ]
  },
  {
   "cell_type": "code",
   "execution_count": 72,
   "metadata": {
    "collapsed": false,
    "deletable": true,
    "editable": true
   },
   "outputs": [],
   "source": [
    "jobs_in_tech = jobs[jobs.category_name=='Technology']\n",
    "by_day = jobs_in_tech.groupby('created_date')"
   ]
  },
  {
   "cell_type": "code",
   "execution_count": 73,
   "metadata": {
    "collapsed": false,
    "deletable": true,
    "editable": true
   },
   "outputs": [
    {
     "data": {
      "text/plain": [
       "<matplotlib.text.Text at 0x1d0190d10>"
      ]
     },
     "execution_count": 73,
     "metadata": {},
     "output_type": "execute_result"
    },
    {
     "data": {
      "image/png": "[encoded data removed]",
      "text/plain": [
       "<matplotlib.figure.Figure at 0x11df09650>"
      ]
     },
     "metadata": {},
     "output_type": "display_data"
    }
   ],
   "source": [
    "ax = by_day['category_name'].count().plot()\n",
    "ax.set_xlabel('Time')\n",
    "ax.set_ylabel('Weekly average of new job postings')"
   ]
  },
  {
   "cell_type": "code",
   "execution_count": null,
   "metadata": {
    "collapsed": true,
    "deletable": true,
    "editable": true
   },
   "outputs": [],
   "source": []
  }
 ],
 "metadata": {
  "anaconda-cloud": {},
  "kernelspec": {
   "display_name": "Python 3",
   "language": "python",
   "name": "python3"
  },
  "language_info": {
   "codemirror_mode": {
    "name": "ipython",
    "version": 3
   },
   "file_extension": ".py",
   "mimetype": "text/x-python",
   "name": "python",
   "nbconvert_exporter": "python",
   "pygments_lexer": "ipython3",
   "version": "3.5.1"
  }
 },
 "nbformat": 4,
 "nbformat_minor": 1
}
