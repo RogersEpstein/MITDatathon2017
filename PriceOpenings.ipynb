{
 "cells": [
  {
   "cell_type": "code",
   "execution_count": null,
   "metadata": {
    "collapsed": true
   },
   "outputs": [],
   "source": [
    "import csv\n",
    "import numpy as np\n",
    "import pandas as pd\n",
    "import seaborn as sns\n",
    "import sklearn as skl\n",
    "import matplotlib\n",
    "import matplotlib.pyplot as plt\n",
    "%matplotlib inline\n",
    "jobs = pd.read_csv(\"jobs.csv\")\n",
    "education = pd.read_csv(\"education.csv\")\n",
    "industries = pd.read_csv(\"industries.csv\")\n",
    "prices = pd.read_csv(\"prices.csv\")\n",
    "companies = pd.read_csv(\"companies.csv\")"
   ]
  },
  {
   "cell_type": "code",
   "execution_count": null,
   "metadata": {
    "collapsed": true
   },
   "outputs": [],
   "source": [
    "def graph_openings_v_prices(company_name):\n",
    "    jobs_for_company =jobs[jobs.company_name==company_name]\n",
    "    jobs_for_company_by_day = jobs_for_company.groupby('created_date')\n",
    "    company_row = companies[companies.name==company_name]\n",
    "    ticker_id = company_row['ticker_main'].iloc[0]\n",
    "    prices.plot(x='date', y=ticker_id)\n",
    "    ax = jobs_for_company_by_day['company_name'].count().plot()\n",
    "    ax.set_xlabel('Time')\n",
    "    ax.set_ylabel('Weekly average of new job postings')\n",
    "\n",
    "graph_openings_v_prices('Fluor Corporation')"
   ]
  },
  {
   "cell_type": "code",
   "execution_count": null,
   "metadata": {
    "collapsed": true
   },
   "outputs": [],
   "source": []
  }
 ],
 "metadata": {
  "kernelspec": {
   "display_name": "Python 2",
   "language": "python",
   "name": "python2"
  },
  "language_info": {
   "codemirror_mode": {
    "name": "ipython",
    "version": 2
   },
   "file_extension": ".py",
   "mimetype": "text/x-python",
   "name": "python",
   "nbconvert_exporter": "python",
   "pygments_lexer": "ipython2",
   "version": "2.7.13"
  }
 },
 "nbformat": 4,
 "nbformat_minor": 2
}
